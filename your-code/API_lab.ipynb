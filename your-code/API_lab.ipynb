{
 "cells": [
  {
   "cell_type": "markdown",
   "metadata": {},
   "source": [
    "### Challenge 1: Fork Languages"
   ]
  },
  {
   "cell_type": "markdown",
   "metadata": {},
   "source": [
    "You will find out how many programming languages are used among all the forks created from the main lab repo of ironhack Madrid. The URL is  `ironhack-datalabs/madrid-oct-2018`, you will:\n",
    "\n",
    "\n",
    "1. Obtain the full list of forks created from the main lab repo via Github API.\n",
    "\n",
    "1. Loop the JSON response to find out the `language` attribute of each fork. Use an array to store the `language` attributes of each fork.\n",
    "    * *Hint: Each language should appear only once in your array.*\n",
    "\n",
    "1. Print the language array. It should be something like:\n",
    "\n",
    "\t```[\"Python\", \"Jupyter Notebook\", \"HTML\"]``` \n",
    "\t\t\tor\n",
    "\t```[\"Jupyter Notebook\", \"HTML\", None]```\n"
   ]
  },
  {
   "cell_type": "code",
   "execution_count": 1,
   "metadata": {},
   "outputs": [],
   "source": [
    "import pandas as pd\n",
    "import requests\n",
    "from requests.auth import HTTPBasicAuth"
   ]
  },
  {
   "cell_type": "code",
   "execution_count": 21,
   "metadata": {},
   "outputs": [],
   "source": [
    "url='https://github.com/eye8/madrid-oct-2018'\n",
    "url_forks='https://api.github.com/repos/ironhack-datalabs/mad-oct-2018/forks'\n",
    "\n",
    "\n"
   ]
  },
  {
   "cell_type": "code",
   "execution_count": 22,
   "metadata": {},
   "outputs": [
    {
     "data": {
      "text/plain": [
       "200"
      ]
     },
     "execution_count": 22,
     "metadata": {},
     "output_type": "execute_result"
    }
   ],
   "source": [
    "response=requests.get(url_forks)\n",
    "response.status_code"
   ]
  },
  {
   "cell_type": "code",
   "execution_count": 23,
   "metadata": {},
   "outputs": [
    {
     "data": {
      "text/html": [
       "<div>\n",
       "<style scoped>\n",
       "    .dataframe tbody tr th:only-of-type {\n",
       "        vertical-align: middle;\n",
       "    }\n",
       "\n",
       "    .dataframe tbody tr th {\n",
       "        vertical-align: top;\n",
       "    }\n",
       "\n",
       "    .dataframe thead th {\n",
       "        text-align: right;\n",
       "    }\n",
       "</style>\n",
       "<table border=\"1\" class=\"dataframe\">\n",
       "  <thead>\n",
       "    <tr style=\"text-align: right;\">\n",
       "      <th></th>\n",
       "      <th>id</th>\n",
       "      <th>node_id</th>\n",
       "      <th>name</th>\n",
       "      <th>full_name</th>\n",
       "      <th>private</th>\n",
       "      <th>owner</th>\n",
       "      <th>html_url</th>\n",
       "      <th>description</th>\n",
       "      <th>fork</th>\n",
       "      <th>url</th>\n",
       "      <th>...</th>\n",
       "      <th>open_issues_count</th>\n",
       "      <th>license</th>\n",
       "      <th>allow_forking</th>\n",
       "      <th>is_template</th>\n",
       "      <th>topics</th>\n",
       "      <th>visibility</th>\n",
       "      <th>forks</th>\n",
       "      <th>open_issues</th>\n",
       "      <th>watchers</th>\n",
       "      <th>default_branch</th>\n",
       "    </tr>\n",
       "  </thead>\n",
       "  <tbody>\n",
       "    <tr>\n",
       "      <th>0</th>\n",
       "      <td>487632383</td>\n",
       "      <td>R_kgDOHRCt_w</td>\n",
       "      <td>mad-oct-2018</td>\n",
       "      <td>asier3/mad-oct-2018</td>\n",
       "      <td>False</td>\n",
       "      <td>{'login': 'asier3', 'id': 101799204, 'node_id'...</td>\n",
       "      <td>https://github.com/asier3/mad-oct-2018</td>\n",
       "      <td>Student labs for Ironhack data analytics bootcamp</td>\n",
       "      <td>True</td>\n",
       "      <td>https://api.github.com/repos/asier3/mad-oct-2018</td>\n",
       "      <td>...</td>\n",
       "      <td>0</td>\n",
       "      <td>{'key': 'unlicense', 'name': 'The Unlicense', ...</td>\n",
       "      <td>True</td>\n",
       "      <td>False</td>\n",
       "      <td>[]</td>\n",
       "      <td>public</td>\n",
       "      <td>0</td>\n",
       "      <td>0</td>\n",
       "      <td>0</td>\n",
       "      <td>master</td>\n",
       "    </tr>\n",
       "    <tr>\n",
       "      <th>1</th>\n",
       "      <td>485472962</td>\n",
       "      <td>R_kgDOHO-6wg</td>\n",
       "      <td>mad-oct-2018</td>\n",
       "      <td>Medea22/mad-oct-2018</td>\n",
       "      <td>False</td>\n",
       "      <td>{'login': 'Medea22', 'id': 101408499, 'node_id...</td>\n",
       "      <td>https://github.com/Medea22/mad-oct-2018</td>\n",
       "      <td>Student labs for Ironhack data analytics bootcamp</td>\n",
       "      <td>True</td>\n",
       "      <td>https://api.github.com/repos/Medea22/mad-oct-2018</td>\n",
       "      <td>...</td>\n",
       "      <td>0</td>\n",
       "      <td>{'key': 'unlicense', 'name': 'The Unlicense', ...</td>\n",
       "      <td>True</td>\n",
       "      <td>False</td>\n",
       "      <td>[]</td>\n",
       "      <td>public</td>\n",
       "      <td>0</td>\n",
       "      <td>0</td>\n",
       "      <td>0</td>\n",
       "      <td>master</td>\n",
       "    </tr>\n",
       "    <tr>\n",
       "      <th>2</th>\n",
       "      <td>416830289</td>\n",
       "      <td>R_kgDOGNhTUQ</td>\n",
       "      <td>mad-oct-2018</td>\n",
       "      <td>techols/mad-oct-2018</td>\n",
       "      <td>False</td>\n",
       "      <td>{'login': 'techols', 'id': 86572687, 'node_id'...</td>\n",
       "      <td>https://github.com/techols/mad-oct-2018</td>\n",
       "      <td>Student labs for Ironhack data analytics bootcamp</td>\n",
       "      <td>True</td>\n",
       "      <td>https://api.github.com/repos/techols/mad-oct-2018</td>\n",
       "      <td>...</td>\n",
       "      <td>0</td>\n",
       "      <td>{'key': 'unlicense', 'name': 'The Unlicense', ...</td>\n",
       "      <td>True</td>\n",
       "      <td>False</td>\n",
       "      <td>[]</td>\n",
       "      <td>public</td>\n",
       "      <td>0</td>\n",
       "      <td>0</td>\n",
       "      <td>0</td>\n",
       "      <td>master</td>\n",
       "    </tr>\n",
       "  </tbody>\n",
       "</table>\n",
       "<p>3 rows × 77 columns</p>\n",
       "</div>"
      ],
      "text/plain": [
       "          id       node_id          name             full_name  private  \\\n",
       "0  487632383  R_kgDOHRCt_w  mad-oct-2018   asier3/mad-oct-2018    False   \n",
       "1  485472962  R_kgDOHO-6wg  mad-oct-2018  Medea22/mad-oct-2018    False   \n",
       "2  416830289  R_kgDOGNhTUQ  mad-oct-2018  techols/mad-oct-2018    False   \n",
       "\n",
       "                                               owner  \\\n",
       "0  {'login': 'asier3', 'id': 101799204, 'node_id'...   \n",
       "1  {'login': 'Medea22', 'id': 101408499, 'node_id...   \n",
       "2  {'login': 'techols', 'id': 86572687, 'node_id'...   \n",
       "\n",
       "                                  html_url  \\\n",
       "0   https://github.com/asier3/mad-oct-2018   \n",
       "1  https://github.com/Medea22/mad-oct-2018   \n",
       "2  https://github.com/techols/mad-oct-2018   \n",
       "\n",
       "                                         description  fork  \\\n",
       "0  Student labs for Ironhack data analytics bootcamp  True   \n",
       "1  Student labs for Ironhack data analytics bootcamp  True   \n",
       "2  Student labs for Ironhack data analytics bootcamp  True   \n",
       "\n",
       "                                                 url  ... open_issues_count  \\\n",
       "0   https://api.github.com/repos/asier3/mad-oct-2018  ...                 0   \n",
       "1  https://api.github.com/repos/Medea22/mad-oct-2018  ...                 0   \n",
       "2  https://api.github.com/repos/techols/mad-oct-2018  ...                 0   \n",
       "\n",
       "                                             license allow_forking  \\\n",
       "0  {'key': 'unlicense', 'name': 'The Unlicense', ...          True   \n",
       "1  {'key': 'unlicense', 'name': 'The Unlicense', ...          True   \n",
       "2  {'key': 'unlicense', 'name': 'The Unlicense', ...          True   \n",
       "\n",
       "  is_template topics visibility forks open_issues watchers default_branch  \n",
       "0       False     []     public     0           0        0         master  \n",
       "1       False     []     public     0           0        0         master  \n",
       "2       False     []     public     0           0        0         master  \n",
       "\n",
       "[3 rows x 77 columns]"
      ]
     },
     "execution_count": 23,
     "metadata": {},
     "output_type": "execute_result"
    }
   ],
   "source": [
    "#get a df with all forks \n",
    "df_fork=pd.DataFrame(response.json())\n",
    "df_fork.head(3)"
   ]
  },
  {
   "cell_type": "code",
   "execution_count": 5,
   "metadata": {},
   "outputs": [
    {
     "data": {
      "text/plain": [
       "Index(['id', 'node_id', 'name', 'full_name', 'private', 'owner', 'html_url',\n",
       "       'description', 'fork', 'url', 'forks_url', 'keys_url',\n",
       "       'collaborators_url', 'teams_url', 'hooks_url', 'issue_events_url',\n",
       "       'events_url', 'assignees_url', 'branches_url', 'tags_url', 'blobs_url',\n",
       "       'git_tags_url', 'git_refs_url', 'trees_url', 'statuses_url',\n",
       "       'languages_url', 'stargazers_url', 'contributors_url',\n",
       "       'subscribers_url', 'subscription_url', 'commits_url', 'git_commits_url',\n",
       "       'comments_url', 'issue_comment_url', 'contents_url', 'compare_url',\n",
       "       'merges_url', 'archive_url', 'downloads_url', 'issues_url', 'pulls_url',\n",
       "       'milestones_url', 'notifications_url', 'labels_url', 'releases_url',\n",
       "       'deployments_url', 'created_at', 'updated_at', 'pushed_at', 'git_url',\n",
       "       'ssh_url', 'clone_url', 'svn_url', 'homepage', 'size',\n",
       "       'stargazers_count', 'watchers_count', 'language', 'has_issues',\n",
       "       'has_projects', 'has_downloads', 'has_wiki', 'has_pages', 'forks_count',\n",
       "       'mirror_url', 'archived', 'disabled', 'open_issues_count', 'license',\n",
       "       'allow_forking', 'is_template', 'topics', 'visibility', 'forks',\n",
       "       'open_issues', 'watchers', 'default_branch'],\n",
       "      dtype='object')"
      ]
     },
     "execution_count": 5,
     "metadata": {},
     "output_type": "execute_result"
    }
   ],
   "source": [
    "df_fork.columns"
   ]
  },
  {
   "cell_type": "code",
   "execution_count": 24,
   "metadata": {},
   "outputs": [
    {
     "data": {
      "text/plain": [
       "'https://api.github.com/repos/asier3/mad-oct-2018/languages'"
      ]
     },
     "execution_count": 24,
     "metadata": {},
     "output_type": "execute_result"
    }
   ],
   "source": [
    "new_list=df_fork['languages_url']\n",
    "new_list[0]\n",
    "\n",
    "#url_languages='https://api.github.com/repos/asier3/mad-oct-2018/languages'\n",
    "\n"
   ]
  },
  {
   "cell_type": "code",
   "execution_count": 25,
   "metadata": {},
   "outputs": [
    {
     "name": "stdout",
     "output_type": "stream",
     "text": [
      "{'Jupyter Notebook': 1134241, 'HTML': 498316, 'Python': 8691}\n",
      "{'Jupyter Notebook': 1134241, 'HTML': 498316, 'Python': 8691}\n",
      "{'Jupyter Notebook': 1134241, 'HTML': 498316, 'Python': 8691}\n",
      "{'Jupyter Notebook': 1134241, 'HTML': 498316, 'Python': 8691}\n",
      "{'Jupyter Notebook': 1134241, 'HTML': 498316, 'Python': 8691}\n",
      "{'Jupyter Notebook': 1134241, 'HTML': 498316, 'Python': 8691}\n",
      "{'Jupyter Notebook': 1134241, 'HTML': 498316, 'Python': 8691}\n",
      "{'Jupyter Notebook': 1134241, 'HTML': 498316, 'Python': 8691}\n",
      "{'Jupyter Notebook': 1134241, 'HTML': 498316, 'Python': 8691}\n",
      "{'Jupyter Notebook': 1134241, 'HTML': 498316, 'Python': 8691}\n",
      "{'Jupyter Notebook': 1929156, 'HTML': 498316, 'Python': 25471}\n",
      "{'HTML': 498316, 'Jupyter Notebook': 84452, 'Python': 16545}\n",
      "{'Jupyter Notebook': 2227047, 'HTML': 498316, 'Python': 25471, 'Shell': 1051}\n",
      "{'Jupyter Notebook': 2258595, 'HTML': 498316, 'Python': 27054}\n",
      "{'Jupyter Notebook': 2121446, 'HTML': 498316, 'Python': 30276}\n",
      "{'Jupyter Notebook': 2342270, 'HTML': 498316, 'Python': 30630}\n",
      "{'Jupyter Notebook': 1977603, 'HTML': 498316, 'Python': 32084}\n",
      "{'Jupyter Notebook': 2030706, 'HTML': 498316, 'Python': 26825}\n",
      "{'Jupyter Notebook': 1928145, 'HTML': 498316, 'Python': 27910}\n"
     ]
    }
   ],
   "source": [
    "#loop the language_url column to obtain the url and get the response from the url and store it in the language_array\n",
    "language_array=[]\n",
    "\n",
    "for element in df_fork['languages_url']:\n",
    "    url=element\n",
    "    response=requests.get(url)\n",
    "    print(response.json())\n",
    "    language_array.append(response.json())\n"
   ]
  },
  {
   "cell_type": "code",
   "execution_count": 12,
   "metadata": {},
   "outputs": [
    {
     "data": {
      "text/plain": [
       "list"
      ]
     },
     "execution_count": 12,
     "metadata": {},
     "output_type": "execute_result"
    }
   ],
   "source": [
    "type(language_array)"
   ]
  },
  {
   "cell_type": "code",
   "execution_count": 26,
   "metadata": {},
   "outputs": [
    {
     "ename": "TypeError",
     "evalue": "'<' not supported between instances of 'dict' and 'dict'",
     "output_type": "error",
     "traceback": [
      "\u001b[1;31m---------------------------------------------------------------------------\u001b[0m",
      "\u001b[1;31mTypeError\u001b[0m                                 Traceback (most recent call last)",
      "\u001b[1;32mc:\\Users\\Alina Hartsch\\OneDrive\\Desktop\\Ironhack\\My_Lab_Solutions\\Week 3\\lab-api-scavenger\\your-code\\API_lab.ipynb Cell 11'\u001b[0m in \u001b[0;36m<cell line: 4>\u001b[1;34m()\u001b[0m\n\u001b[0;32m      <a href='vscode-notebook-cell:/c%3A/Users/Alina%20Hartsch/OneDrive/Desktop/Ironhack/My_Lab_Solutions/Week%203/lab-api-scavenger/your-code/API_lab.ipynb#ch0000020?line=1'>2</a>\u001b[0m \u001b[39mimport\u001b[39;00m \u001b[39mnumpy\u001b[39;00m \u001b[39mas\u001b[39;00m \u001b[39mnp\u001b[39;00m\n\u001b[0;32m      <a href='vscode-notebook-cell:/c%3A/Users/Alina%20Hartsch/OneDrive/Desktop/Ironhack/My_Lab_Solutions/Week%203/lab-api-scavenger/your-code/API_lab.ipynb#ch0000020?line=2'>3</a>\u001b[0m x\u001b[39m=\u001b[39mnp\u001b[39m.\u001b[39marray(language_array)\n\u001b[1;32m----> <a href='vscode-notebook-cell:/c%3A/Users/Alina%20Hartsch/OneDrive/Desktop/Ironhack/My_Lab_Solutions/Week%203/lab-api-scavenger/your-code/API_lab.ipynb#ch0000020?line=3'>4</a>\u001b[0m unique_arrays\u001b[39m=\u001b[39mnp\u001b[39m.\u001b[39;49munique(x)\n",
      "File \u001b[1;32m<__array_function__ internals>:5\u001b[0m, in \u001b[0;36munique\u001b[1;34m(*args, **kwargs)\u001b[0m\n",
      "File \u001b[1;32m~\\anaconda3\\envs\\projectsql\\lib\\site-packages\\numpy\\lib\\arraysetops.py:272\u001b[0m, in \u001b[0;36munique\u001b[1;34m(ar, return_index, return_inverse, return_counts, axis)\u001b[0m\n\u001b[0;32m    <a href='file:///c%3A/Users/Alina%20Hartsch/anaconda3/envs/projectsql/lib/site-packages/numpy/lib/arraysetops.py?line=269'>270</a>\u001b[0m ar \u001b[39m=\u001b[39m np\u001b[39m.\u001b[39masanyarray(ar)\n\u001b[0;32m    <a href='file:///c%3A/Users/Alina%20Hartsch/anaconda3/envs/projectsql/lib/site-packages/numpy/lib/arraysetops.py?line=270'>271</a>\u001b[0m \u001b[39mif\u001b[39;00m axis \u001b[39mis\u001b[39;00m \u001b[39mNone\u001b[39;00m:\n\u001b[1;32m--> <a href='file:///c%3A/Users/Alina%20Hartsch/anaconda3/envs/projectsql/lib/site-packages/numpy/lib/arraysetops.py?line=271'>272</a>\u001b[0m     ret \u001b[39m=\u001b[39m _unique1d(ar, return_index, return_inverse, return_counts)\n\u001b[0;32m    <a href='file:///c%3A/Users/Alina%20Hartsch/anaconda3/envs/projectsql/lib/site-packages/numpy/lib/arraysetops.py?line=272'>273</a>\u001b[0m     \u001b[39mreturn\u001b[39;00m _unpack_tuple(ret)\n\u001b[0;32m    <a href='file:///c%3A/Users/Alina%20Hartsch/anaconda3/envs/projectsql/lib/site-packages/numpy/lib/arraysetops.py?line=274'>275</a>\u001b[0m \u001b[39m# axis was specified and not None\u001b[39;00m\n",
      "File \u001b[1;32m~\\anaconda3\\envs\\projectsql\\lib\\site-packages\\numpy\\lib\\arraysetops.py:333\u001b[0m, in \u001b[0;36m_unique1d\u001b[1;34m(ar, return_index, return_inverse, return_counts)\u001b[0m\n\u001b[0;32m    <a href='file:///c%3A/Users/Alina%20Hartsch/anaconda3/envs/projectsql/lib/site-packages/numpy/lib/arraysetops.py?line=330'>331</a>\u001b[0m     aux \u001b[39m=\u001b[39m ar[perm]\n\u001b[0;32m    <a href='file:///c%3A/Users/Alina%20Hartsch/anaconda3/envs/projectsql/lib/site-packages/numpy/lib/arraysetops.py?line=331'>332</a>\u001b[0m \u001b[39melse\u001b[39;00m:\n\u001b[1;32m--> <a href='file:///c%3A/Users/Alina%20Hartsch/anaconda3/envs/projectsql/lib/site-packages/numpy/lib/arraysetops.py?line=332'>333</a>\u001b[0m     ar\u001b[39m.\u001b[39;49msort()\n\u001b[0;32m    <a href='file:///c%3A/Users/Alina%20Hartsch/anaconda3/envs/projectsql/lib/site-packages/numpy/lib/arraysetops.py?line=333'>334</a>\u001b[0m     aux \u001b[39m=\u001b[39m ar\n\u001b[0;32m    <a href='file:///c%3A/Users/Alina%20Hartsch/anaconda3/envs/projectsql/lib/site-packages/numpy/lib/arraysetops.py?line=334'>335</a>\u001b[0m mask \u001b[39m=\u001b[39m np\u001b[39m.\u001b[39mempty(aux\u001b[39m.\u001b[39mshape, dtype\u001b[39m=\u001b[39mnp\u001b[39m.\u001b[39mbool_)\n",
      "\u001b[1;31mTypeError\u001b[0m: '<' not supported between instances of 'dict' and 'dict'"
     ]
    }
   ],
   "source": [
    "# get unique arrays in the list --> not sure how to get unique array values :(())\n",
    "import numpy as np\n",
    "x=np.array(language_array)\n",
    "unique_arrays=np.unique(x)"
   ]
  },
  {
   "cell_type": "markdown",
   "metadata": {},
   "source": [
    "From your own `lab-list-comprehensions` repo, you will count how many commits were made in the past 2 weeks:\n",
    "\n",
    "1. Obtain all the commits made in the past 2 weeks via API, which is a JSON array that contains multiple commit objects.\n",
    "\n",
    "1. Count how many commit objects are contained in the array.\n"
   ]
  },
  {
   "cell_type": "code",
   "execution_count": 27,
   "metadata": {},
   "outputs": [],
   "source": [
    "url_commit='https://api.github.com/repos/AlinaHartsch/lab-list-comprehensions/commits'"
   ]
  },
  {
   "cell_type": "code",
   "execution_count": 28,
   "metadata": {},
   "outputs": [
    {
     "data": {
      "text/plain": [
       "200"
      ]
     },
     "execution_count": 28,
     "metadata": {},
     "output_type": "execute_result"
    }
   ],
   "source": [
    "response=requests.get(url_commit)\n",
    "response.status_code"
   ]
  },
  {
   "cell_type": "code",
   "execution_count": 29,
   "metadata": {},
   "outputs": [
    {
     "data": {
      "text/html": [
       "<div>\n",
       "<style scoped>\n",
       "    .dataframe tbody tr th:only-of-type {\n",
       "        vertical-align: middle;\n",
       "    }\n",
       "\n",
       "    .dataframe tbody tr th {\n",
       "        vertical-align: top;\n",
       "    }\n",
       "\n",
       "    .dataframe thead th {\n",
       "        text-align: right;\n",
       "    }\n",
       "</style>\n",
       "<table border=\"1\" class=\"dataframe\">\n",
       "  <thead>\n",
       "    <tr style=\"text-align: right;\">\n",
       "      <th></th>\n",
       "      <th>sha</th>\n",
       "      <th>node_id</th>\n",
       "      <th>commit</th>\n",
       "      <th>url</th>\n",
       "      <th>html_url</th>\n",
       "      <th>comments_url</th>\n",
       "      <th>author</th>\n",
       "      <th>committer</th>\n",
       "      <th>parents</th>\n",
       "    </tr>\n",
       "  </thead>\n",
       "  <tbody>\n",
       "    <tr>\n",
       "      <th>0</th>\n",
       "      <td>c70a29473e8682d3453e4fe5f2537255117ad445</td>\n",
       "      <td>C_kwDOHKNui9oAKGM3MGEyOTQ3M2U4NjgyZDM0NTNlNGZl...</td>\n",
       "      <td>{'author': {'name': 'Alina Hartsch', 'email': ...</td>\n",
       "      <td>https://api.github.com/repos/AlinaHartsch/lab-...</td>\n",
       "      <td>https://github.com/AlinaHartsch/lab-list-compr...</td>\n",
       "      <td>https://api.github.com/repos/AlinaHartsch/lab-...</td>\n",
       "      <td>{'login': 'AlinaHartsch', 'id': 101061379, 'no...</td>\n",
       "      <td>{'login': 'AlinaHartsch', 'id': 101061379, 'no...</td>\n",
       "      <td>[{'sha': 'e75416235e34ea5b2726439ffb8210fe78b7...</td>\n",
       "    </tr>\n",
       "    <tr>\n",
       "      <th>1</th>\n",
       "      <td>e75416235e34ea5b2726439ffb8210fe78b7d900</td>\n",
       "      <td>C_kwDOHKNui9oAKGU3NTQxNjIzNWUzNGVhNWIyNzI2NDM5...</td>\n",
       "      <td>{'author': {'name': 'Alina Hartsch', 'email': ...</td>\n",
       "      <td>https://api.github.com/repos/AlinaHartsch/lab-...</td>\n",
       "      <td>https://github.com/AlinaHartsch/lab-list-compr...</td>\n",
       "      <td>https://api.github.com/repos/AlinaHartsch/lab-...</td>\n",
       "      <td>{'login': 'AlinaHartsch', 'id': 101061379, 'no...</td>\n",
       "      <td>{'login': 'AlinaHartsch', 'id': 101061379, 'no...</td>\n",
       "      <td>[{'sha': '1280d50501fe594d9c5bb82b86c1267e5964...</td>\n",
       "    </tr>\n",
       "  </tbody>\n",
       "</table>\n",
       "</div>"
      ],
      "text/plain": [
       "                                        sha  \\\n",
       "0  c70a29473e8682d3453e4fe5f2537255117ad445   \n",
       "1  e75416235e34ea5b2726439ffb8210fe78b7d900   \n",
       "\n",
       "                                             node_id  \\\n",
       "0  C_kwDOHKNui9oAKGM3MGEyOTQ3M2U4NjgyZDM0NTNlNGZl...   \n",
       "1  C_kwDOHKNui9oAKGU3NTQxNjIzNWUzNGVhNWIyNzI2NDM5...   \n",
       "\n",
       "                                              commit  \\\n",
       "0  {'author': {'name': 'Alina Hartsch', 'email': ...   \n",
       "1  {'author': {'name': 'Alina Hartsch', 'email': ...   \n",
       "\n",
       "                                                 url  \\\n",
       "0  https://api.github.com/repos/AlinaHartsch/lab-...   \n",
       "1  https://api.github.com/repos/AlinaHartsch/lab-...   \n",
       "\n",
       "                                            html_url  \\\n",
       "0  https://github.com/AlinaHartsch/lab-list-compr...   \n",
       "1  https://github.com/AlinaHartsch/lab-list-compr...   \n",
       "\n",
       "                                        comments_url  \\\n",
       "0  https://api.github.com/repos/AlinaHartsch/lab-...   \n",
       "1  https://api.github.com/repos/AlinaHartsch/lab-...   \n",
       "\n",
       "                                              author  \\\n",
       "0  {'login': 'AlinaHartsch', 'id': 101061379, 'no...   \n",
       "1  {'login': 'AlinaHartsch', 'id': 101061379, 'no...   \n",
       "\n",
       "                                           committer  \\\n",
       "0  {'login': 'AlinaHartsch', 'id': 101061379, 'no...   \n",
       "1  {'login': 'AlinaHartsch', 'id': 101061379, 'no...   \n",
       "\n",
       "                                             parents  \n",
       "0  [{'sha': 'e75416235e34ea5b2726439ffb8210fe78b7...  \n",
       "1  [{'sha': '1280d50501fe594d9c5bb82b86c1267e5964...  "
      ]
     },
     "execution_count": 29,
     "metadata": {},
     "output_type": "execute_result"
    }
   ],
   "source": [
    "df_commit=pd.DataFrame(response.json())\n",
    "df_commit.head(2)"
   ]
  },
  {
   "cell_type": "code",
   "execution_count": 30,
   "metadata": {},
   "outputs": [],
   "source": [
    "def flatten_column(data, column):\n",
    "    return pd.DataFrame(dict(data[column])).T"
   ]
  },
  {
   "cell_type": "code",
   "execution_count": 31,
   "metadata": {},
   "outputs": [],
   "source": [
    "commit_column_df=flatten_column(df_commit, 'commit')"
   ]
  },
  {
   "cell_type": "code",
   "execution_count": 32,
   "metadata": {},
   "outputs": [
    {
     "data": {
      "text/plain": [
       "6"
      ]
     },
     "execution_count": 32,
     "metadata": {},
     "output_type": "execute_result"
    }
   ],
   "source": [
    "len(commit_column_df.index) #6?"
   ]
  },
  {
   "cell_type": "code",
   "execution_count": null,
   "metadata": {},
   "outputs": [],
   "source": []
  }
 ],
 "metadata": {
  "interpreter": {
   "hash": "32053d87f92190522b0c024ae429a386c6a3ee82bdb36c66411348bc340046c8"
  },
  "kernelspec": {
   "display_name": "Python 3.10.4 ('projectsql')",
   "language": "python",
   "name": "python3"
  },
  "language_info": {
   "codemirror_mode": {
    "name": "ipython",
    "version": 3
   },
   "file_extension": ".py",
   "mimetype": "text/x-python",
   "name": "python",
   "nbconvert_exporter": "python",
   "pygments_lexer": "ipython3",
   "version": "3.10.4"
  },
  "orig_nbformat": 4
 },
 "nbformat": 4,
 "nbformat_minor": 2
}
